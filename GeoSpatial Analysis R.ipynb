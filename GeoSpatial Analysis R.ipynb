{
 "cells": [
  {
   "cell_type": "code",
   "execution_count": 1,
   "metadata": {},
   "outputs": [],
   "source": [
    "df <- read.csv('bosbiz.csv',header=TRUE, sep=',')"
   ]
  },
  {
   "cell_type": "code",
   "execution_count": 3,
   "metadata": {},
   "outputs": [
    {
     "ename": "ERROR",
     "evalue": "Error in library(ggmap): there is no package called ‘ggmap’\n",
     "output_type": "error",
     "traceback": [
      "Error in library(ggmap): there is no package called ‘ggmap’\nTraceback:\n",
      "1. library(ggmap)",
      "2. stop(txt, domain = NA)"
     ]
    }
   ],
   "source": [
    "library(ggmap)"
   ]
  },
  {
   "cell_type": "code",
   "execution_count": 6,
   "metadata": {},
   "outputs": [
    {
     "ename": "ERROR",
     "evalue": "Error in install.packages(ggplot2): object 'ggplot2' not found\n",
     "output_type": "error",
     "traceback": [
      "Error in install.packages(ggplot2): object 'ggplot2' not found\nTraceback:\n",
      "1. install.packages(ggplot2)"
     ]
    }
   ],
   "source": [
    "install.packages(ggplot2)\n",
    "# install_github(\"dkahle/ggmap\")"
   ]
  },
  {
   "cell_type": "code",
   "execution_count": null,
   "metadata": {},
   "outputs": [],
   "source": []
  }
 ],
 "metadata": {
  "kernelspec": {
   "display_name": "R",
   "language": "R",
   "name": "ir"
  },
  "language_info": {
   "codemirror_mode": "r",
   "file_extension": ".r",
   "mimetype": "text/x-r-source",
   "name": "R",
   "pygments_lexer": "r",
   "version": "3.4.2"
  }
 },
 "nbformat": 4,
 "nbformat_minor": 2
}
